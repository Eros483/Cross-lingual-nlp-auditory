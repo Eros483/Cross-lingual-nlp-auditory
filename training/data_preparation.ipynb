{
 "cells": [
  {
   "cell_type": "code",
   "execution_count": 1,
   "id": "ba4feb0d",
   "metadata": {},
   "outputs": [
    {
     "name": "stderr",
     "output_type": "stream",
     "text": [
      "c:\\Users\\arnab\\miniconda3\\envs\\emotion-detection\\lib\\site-packages\\tqdm\\auto.py:21: TqdmWarning: IProgress not found. Please update jupyter and ipywidgets. See https://ipywidgets.readthedocs.io/en/stable/user_install.html\n",
      "  from .autonotebook import tqdm as notebook_tqdm\n"
     ]
    }
   ],
   "source": [
    "import os\n",
    "import pandas as pd\n",
    "import librosa\n",
    "import numpy as np\n",
    "import torch\n",
    "from transformers import AutoTokenizer\n",
    "import matplotlib.pyplot as plt\n",
    "import nlpaug.augmenter.word as naw\n",
    "import random"
   ]
  },
  {
   "cell_type": "code",
   "execution_count": 2,
   "id": "b800a6e6",
   "metadata": {},
   "outputs": [],
   "source": [
    "def map_sentiment_emotion(score):\n",
    "    '''\n",
    "    Setting up fusion between audio dataset and text dataset.\n",
    "    input: score from textual dataset\n",
    "    output: sentiment label matching to audio dataset\n",
    "    '''\n",
    "    if score==\"1 star\":\n",
    "        return \"Angry\"\n",
    "    \n",
    "    elif score==\"2 stars\":\n",
    "        return \"Sad\"\n",
    "    \n",
    "    elif score==\"3 stars\":\n",
    "        return \"Neutral\"\n",
    "    \n",
    "    elif score==\"4 stars\":\n",
    "        return \"Suprised\"\n",
    "\n",
    "    elif score==\"5 stars\":\n",
    "        return \"Happy\""
   ]
  },
  {
   "cell_type": "code",
   "execution_count": 3,
   "id": "86973f7e",
   "metadata": {},
   "outputs": [
    {
     "data": {
      "text/html": [
       "<div>\n",
       "<style scoped>\n",
       "    .dataframe tbody tr th:only-of-type {\n",
       "        vertical-align: middle;\n",
       "    }\n",
       "\n",
       "    .dataframe tbody tr th {\n",
       "        vertical-align: top;\n",
       "    }\n",
       "\n",
       "    .dataframe thead th {\n",
       "        text-align: right;\n",
       "    }\n",
       "</style>\n",
       "<table border=\"1\" class=\"dataframe\">\n",
       "  <thead>\n",
       "    <tr style=\"text-align: right;\">\n",
       "      <th></th>\n",
       "      <th>tweet</th>\n",
       "      <th>language</th>\n",
       "      <th>sentiment</th>\n",
       "      <th>emotion</th>\n",
       "    </tr>\n",
       "  </thead>\n",
       "  <tbody>\n",
       "    <tr>\n",
       "      <th>0</th>\n",
       "      <td>Lionel Messi, que ha estado vinculado con un t...</td>\n",
       "      <td>es</td>\n",
       "      <td>3 stars</td>\n",
       "      <td>Neutral</td>\n",
       "    </tr>\n",
       "    <tr>\n",
       "      <th>1</th>\n",
       "      <td>This is a guest post by The Joy of Truth. To r...</td>\n",
       "      <td>en</td>\n",
       "      <td>4 stars</td>\n",
       "      <td>Suprised</td>\n",
       "    </tr>\n",
       "    <tr>\n",
       "      <th>2</th>\n",
       "      <td>Nous sommes tous conscients de la popularité d...</td>\n",
       "      <td>fr</td>\n",
       "      <td>5 stars</td>\n",
       "      <td>Happy</td>\n",
       "    </tr>\n",
       "    <tr>\n",
       "      <th>3</th>\n",
       "      <td>El baño en el sistema de metro de la ciudad de...</td>\n",
       "      <td>es</td>\n",
       "      <td>4 stars</td>\n",
       "      <td>Suprised</td>\n",
       "    </tr>\n",
       "    <tr>\n",
       "      <th>4</th>\n",
       "      <td>\"Ich habe dies seit über 20 Jahren getan und i...</td>\n",
       "      <td>de</td>\n",
       "      <td>5 stars</td>\n",
       "      <td>Happy</td>\n",
       "    </tr>\n",
       "  </tbody>\n",
       "</table>\n",
       "</div>"
      ],
      "text/plain": [
       "                                               tweet language sentiment  \\\n",
       "0  Lionel Messi, que ha estado vinculado con un t...       es   3 stars   \n",
       "1  This is a guest post by The Joy of Truth. To r...       en   4 stars   \n",
       "2  Nous sommes tous conscients de la popularité d...       fr   5 stars   \n",
       "3  El baño en el sistema de metro de la ciudad de...       es   4 stars   \n",
       "4  \"Ich habe dies seit über 20 Jahren getan und i...       de   5 stars   \n",
       "\n",
       "    emotion  \n",
       "0   Neutral  \n",
       "1  Suprised  \n",
       "2     Happy  \n",
       "3  Suprised  \n",
       "4     Happy  "
      ]
     },
     "execution_count": 3,
     "metadata": {},
     "output_type": "execute_result"
    }
   ],
   "source": [
    "df=pd.read_csv(\"../datasets/textualData.csv\")\n",
    "df=df[['tweet', 'language', 'sentiment']].dropna()\n",
    "\n",
    "df['emotion'] = df['sentiment'].apply(map_sentiment_emotion)\n",
    "df.head()"
   ]
  },
  {
   "cell_type": "code",
   "execution_count": 4,
   "id": "77e0ba86",
   "metadata": {},
   "outputs": [
    {
     "name": "stdout",
     "output_type": "stream",
     "text": [
      "emotion\n",
      "Angry       1461\n",
      "Suprised    1067\n",
      "Happy       1015\n",
      "Neutral      937\n",
      "Sad          437\n",
      "Name: count, dtype: int64\n"
     ]
    }
   ],
   "source": [
    "print(df['emotion'].value_counts(dropna=False))"
   ]
  },
  {
   "cell_type": "code",
   "execution_count": 5,
   "id": "5457a64b",
   "metadata": {},
   "outputs": [
    {
     "name": "stderr",
     "output_type": "stream",
     "text": [
      "c:\\Users\\arnab\\miniconda3\\envs\\emotion-detection\\lib\\site-packages\\huggingface_hub\\file_download.py:943: FutureWarning: `resume_download` is deprecated and will be removed in version 1.0.0. Downloads always resume when possible. If you want to force a new download, use `force_download=True`.\n",
      "  warnings.warn(\n"
     ]
    },
    {
     "name": "stdout",
     "output_type": "stream",
     "text": [
      "successfully saved text data\n"
     ]
    }
   ],
   "source": [
    "tokenizer=AutoTokenizer.from_pretrained(\"xlm-roberta-base\")\n",
    "tokenized=tokenizer(df['tweet'].tolist(), padding=True, truncation=True, return_tensors=\"pt\")\n",
    "\n",
    "text_data={\n",
    "    \"input_ids\": tokenized['input_ids'],\n",
    "    \"attention_mask\": tokenized['attention_mask'],\n",
    "    \"labels\": df['emotion'].values,\n",
    "}\n",
    "\n",
    "os.makedirs(\"../datasets/processed_text\", exist_ok=True)\n",
    "torch.save(text_data, \"../datasets/processed_text/text_data.pt\")\n",
    "print(\"successfully saved text data\")"
   ]
  },
  {
   "cell_type": "markdown",
   "id": "d9989b6f",
   "metadata": {},
   "source": [
    "preparing augmented dataset"
   ]
  },
  {
   "cell_type": "code",
   "execution_count": 7,
   "id": "47cb9b61",
   "metadata": {},
   "outputs": [
    {
     "name": "stdout",
     "output_type": "stream",
     "text": [
      "                                                  tweet  ... emotion\n",
      "8     \"Molte persone dicono: 'Oh, beh, non ne abbiam...  ...     Sad\n",
      "22    Après une série de décès très médiatisés la se...  ...     Sad\n",
      "40    Le type le plus commun et potentiellement le p...  ...     Sad\n",
      "41    Nel maggio 2009, ho scritto di una storia che ...  ...     Sad\n",
      "48    Somewhere in the middle is a woman who is so s...  ...     Sad\n",
      "...                                                 ...  ...     ...\n",
      "4821  What if your favorite team wasn't a contender ...  ...     Sad\n",
      "4830  En los últimos años, muchas organizaciones han...  ...     Sad\n",
      "4846  \\nThe US government has been slow to respond t...  ...     Sad\n",
      "4887  \\nThe \"New World Order\" is already in an uproa...  ...     Sad\n",
      "4914  Mit all der Aufmerksamkeit, die dem Thema Abtr...  ...     Sad\n",
      "\n",
      "[437 rows x 4 columns]\n"
     ]
    }
   ],
   "source": [
    "sad_df=df[df['emotion']=='Sad']\n",
    "print(sad_df)"
   ]
  },
  {
   "cell_type": "code",
   "execution_count": 8,
   "id": "8519b006",
   "metadata": {},
   "outputs": [
    {
     "name": "stderr",
     "output_type": "stream",
     "text": [
      "c:\\Users\\arnab\\miniconda3\\envs\\emotion-detection\\lib\\site-packages\\huggingface_hub\\file_download.py:943: FutureWarning: `resume_download` is deprecated and will be removed in version 1.0.0. Downloads always resume when possible. If you want to force a new download, use `force_download=True`.\n",
      "  warnings.warn(\n"
     ]
    }
   ],
   "source": [
    "aug=naw.ContextualWordEmbsAug(\n",
    "    model_path=\"xlm-roberta-base\",\n",
    "    action=\"substitute\",\n",
    "    device=\"cuda\" if torch.cuda.is_available() else \"cpu\"\n",
    ")"
   ]
  },
  {
   "cell_type": "code",
   "execution_count": 10,
   "id": "95879bbd",
   "metadata": {},
   "outputs": [
    {
     "name": "stdout",
     "output_type": "stream",
     "text": [
      "emotion\n",
      "Angry       1461\n",
      "Suprised    1067\n",
      "Happy       1015\n",
      "Neutral      937\n",
      "Sad          637\n",
      "Name: count, dtype: int64\n"
     ]
    }
   ],
   "source": [
    "augmented_texts = []\n",
    "num_aug=200\n",
    "\n",
    "for i in range(num_aug):\n",
    "    original_text=random.choice(sad_df['tweet'].tolist())\n",
    "    try:\n",
    "        augmented_text = aug.augment(original_text)\n",
    "        augmented_texts.append({'tweet': augmented_text, 'emotion': 'Sad'})\n",
    "    except Exception as e:\n",
    "        print(f\"Error during augmentation: {e}\")\n",
    "        continue\n",
    "\n",
    "augmented_df = pd.DataFrame(augmented_texts)\n",
    "final_df = pd.concat([df[['tweet', 'emotion']], augmented_df], ignore_index=True)\n",
    "print(final_df['emotion'].value_counts(dropna=False))"
   ]
  },
  {
   "cell_type": "code",
   "execution_count": 12,
   "id": "be03df6b",
   "metadata": {},
   "outputs": [
    {
     "name": "stdout",
     "output_type": "stream",
     "text": [
      "                                               tweet emotion\n",
      "0  [Ich bin ein kleiner Unternehmer in Seattle, u...     Sad\n",
      "1  [Es ist nicht die beste Zeit. Ich bin enttäusc...     Sad\n",
      "2  [Un peu plus d'un demi-année après l'annonce i...     Sad\n",
      "3  [\"Esto no es tan serio como esperábamos\" \"Tuvi...     Sad\n",
      "4  [The European Union's European Parliament has ...     Sad\n"
     ]
    }
   ],
   "source": [
    "print(augmented_df.head())"
   ]
  },
  {
   "cell_type": "code",
   "execution_count": 11,
   "id": "90ca63d1",
   "metadata": {},
   "outputs": [
    {
     "name": "stderr",
     "output_type": "stream",
     "text": [
      "c:\\Users\\arnab\\miniconda3\\envs\\emotion-detection\\lib\\site-packages\\huggingface_hub\\file_download.py:943: FutureWarning: `resume_download` is deprecated and will be removed in version 1.0.0. Downloads always resume when possible. If you want to force a new download, use `force_download=True`.\n",
      "  warnings.warn(\n"
     ]
    },
    {
     "name": "stdout",
     "output_type": "stream",
     "text": [
      "successfully saved text data\n"
     ]
    }
   ],
   "source": [
    "tokenizer=AutoTokenizer.from_pretrained(\"xlm-roberta-base\")\n",
    "tokenized=tokenizer(df['tweet'].tolist(), padding=True, truncation=True, return_tensors=\"pt\")\n",
    "\n",
    "text_data={\n",
    "    \"input_ids\": tokenized['input_ids'],\n",
    "    \"attention_mask\": tokenized['attention_mask'],\n",
    "    \"labels\": df['emotion'].values,\n",
    "}\n",
    "\n",
    "os.makedirs(\"../datasets/processed_text\", exist_ok=True)\n",
    "torch.save(text_data, \"../datasets/processed_text/augmented_text_data.pt\")\n",
    "print(\"successfully saved text data\")"
   ]
  },
  {
   "cell_type": "code",
   "execution_count": 6,
   "id": "6eae0f05",
   "metadata": {},
   "outputs": [],
   "source": [
    "def extract_mfcc(file_path, sr=16000, n_mfcc=40):\n",
    "    '''\n",
    "    Extracting MFCC features from audio files.\n",
    "    input: file path of audio file\n",
    "    output: MFCC features\n",
    "    '''\n",
    "    y, sr = librosa.load(file_path, sr=sr)\n",
    "    mfccs = librosa.feature.mfcc(y=y, sr=sr, n_mfcc=n_mfcc)\n",
    "    return mfccs.T\n",
    "\n",
    "ravdess_path=\"../datasets/ravdess\"\n",
    "features=[]\n",
    "labels=[]\n",
    "\n",
    "emotion_map={\n",
    "    \"01\": 2,\n",
    "    \"03\": 4,\n",
    "    \"04\": 1, \n",
    "    \"05\": 0,\n",
    "    \"08\": 3,\n",
    "}\n",
    "\n",
    "for actor_folder in os.listdir(ravdess_path):\n",
    "    folder_path=os.path.join(ravdess_path, actor_folder)\n",
    "    if not os.path.isdir(folder_path):\n",
    "        continue\n",
    "    for file in os.listdir(folder_path):\n",
    "        if file.endswith('.wav'):\n",
    "            parts=file.split(\"-\")\n",
    "            if len(parts)!=7:\n",
    "                continue\n",
    "                \n",
    "            modality=parts[0]\n",
    "            emotion=parts[2]\n",
    "\n",
    "            if modality==\"03\" and emotion in emotion_map:\n",
    "                file_path=os.path.join(folder_path, file)\n",
    "                mfccs=extract_mfcc(file_path)\n",
    "                features.append(mfccs)\n",
    "                labels.append(emotion_map[emotion])"
   ]
  },
  {
   "cell_type": "code",
   "execution_count": 7,
   "id": "4bebbd8b",
   "metadata": {},
   "outputs": [
    {
     "name": "stdout",
     "output_type": "stream",
     "text": [
      "successfully saved audio data\n"
     ]
    }
   ],
   "source": [
    "max_len=200\n",
    "n_mfcc=40\n",
    "\n",
    "padded_features = []\n",
    "\n",
    "for mfcc in features:\n",
    "    if mfcc.shape[0]>max_len:\n",
    "        padded=mfcc[:max_len, :]\n",
    "    else:\n",
    "        pad_width=max_len-mfcc.shape[0]\n",
    "        padded=np.pad(mfcc, ((0, pad_width), (0, 0)), mode='constant')\n",
    "    padded_features.append(padded)\n",
    "\n",
    "padded_features = np.array(padded_features)\n",
    "labels=np.array(labels)\n",
    "np.save(\"../datasets/processed_audio/features.npy\", padded_features)\n",
    "np.save(\"../datasets/processed_audio/labels.npy\", np.array(labels))\n",
    "print(\"successfully saved audio data\")"
   ]
  }
 ],
 "metadata": {
  "kernelspec": {
   "display_name": "emotion-detection",
   "language": "python",
   "name": "python3"
  },
  "language_info": {
   "codemirror_mode": {
    "name": "ipython",
    "version": 3
   },
   "file_extension": ".py",
   "mimetype": "text/x-python",
   "name": "python",
   "nbconvert_exporter": "python",
   "pygments_lexer": "ipython3",
   "version": "3.10.16"
  }
 },
 "nbformat": 4,
 "nbformat_minor": 5
}
