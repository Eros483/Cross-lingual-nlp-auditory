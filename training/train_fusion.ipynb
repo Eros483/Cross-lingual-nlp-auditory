{
 "cells": [
  {
   "cell_type": "code",
   "execution_count": 1,
   "id": "8bba2f73",
   "metadata": {},
   "outputs": [],
   "source": [
    "import torch\n",
    "import torch.nn as nn\n",
    "import torch.nn.functional as F\n",
    "import torch.optim as optim\n",
    "from torch.utils.data import TensorDataset, DataLoader\n",
    "from sklearn.metrics import confusion_matrix, ConfusionMatrixDisplay, classification_report\n",
    "import matplotlib.pyplot as plt\n",
    "import numpy as np"
   ]
  },
  {
   "cell_type": "code",
   "execution_count": 6,
   "id": "9520cf70",
   "metadata": {},
   "outputs": [],
   "source": [
    "audio_probs=torch.load('../datasets/fusion/audio_val_probs.pt')\n",
    "text_probs=torch.load('../datasets/fusion/text_val_probs.pt')[:173]\n",
    "labels=torch.load('../datasets/fusion/fusion_val_labels.pt')"
   ]
  },
  {
   "cell_type": "code",
   "execution_count": 21,
   "id": "c5a527fe",
   "metadata": {},
   "outputs": [
    {
     "name": "stdout",
     "output_type": "stream",
     "text": [
      "tensor([4, 4, 4, 2, 3, 3, 1, 1, 1, 4, 3, 3, 0, 0, 3, 3, 2, 3, 3, 4, 1, 4, 4, 3,\n",
      "        1, 0, 4, 4, 1, 4, 1, 3, 0, 1, 1, 0, 1, 1, 4, 1, 3, 4, 1, 3, 2, 3, 3, 3,\n",
      "        0, 4, 0, 1, 1, 0, 3, 0, 0, 1, 0, 0, 2, 0, 4, 2, 0, 0, 1, 0, 3, 4, 4, 0,\n",
      "        1, 1, 0, 3, 3, 2, 3, 4, 4, 2, 2, 3, 0, 4, 4, 2, 0, 3, 4, 0, 2, 4, 1, 1,\n",
      "        0, 3, 0, 0, 0, 4, 4, 3, 1, 3, 0, 1, 0, 1, 3, 0, 1, 4, 2, 3, 1, 3, 0, 3,\n",
      "        3, 4, 4, 1, 2, 1, 3, 4, 2, 0, 0, 2, 1, 1, 1, 1, 3, 2, 3, 3, 0, 3, 1, 4,\n",
      "        4, 0, 1, 0, 4, 2, 0, 4, 4, 0, 0, 1, 4, 3, 0, 4, 3, 2, 1, 3, 0, 1, 4, 1,\n",
      "        3, 2, 4, 2, 4])\n"
     ]
    }
   ],
   "source": [
    "print(labels)"
   ]
  },
  {
   "cell_type": "code",
   "execution_count": 22,
   "id": "3b5a02d3",
   "metadata": {},
   "outputs": [
    {
     "name": "stdout",
     "output_type": "stream",
     "text": [
      "173\n",
      "173\n",
      "173\n"
     ]
    }
   ],
   "source": [
    "print(audio_probs.shape[0])\n",
    "print(text_probs.shape[0])\n",
    "print(labels.shape[0])"
   ]
  },
  {
   "cell_type": "code",
   "execution_count": 23,
   "id": "6b5b337f",
   "metadata": {},
   "outputs": [],
   "source": [
    "assert audio_probs.shape[0] == text_probs.shape[0] == labels.shape[0], \"Mismatched dataset sizes\""
   ]
  },
  {
   "cell_type": "code",
   "execution_count": 24,
   "id": "2aea80de",
   "metadata": {},
   "outputs": [],
   "source": [
    "X_fusion=torch.cat((audio_probs, text_probs), dim=1)\n",
    "y_fusion=labels\n",
    "\n",
    "dataset=TensorDataset(X_fusion, y_fusion)\n",
    "dataloader=DataLoader(dataset, batch_size=32, shuffle=False)"
   ]
  },
  {
   "cell_type": "code",
   "execution_count": 25,
   "id": "e8f1e10c",
   "metadata": {},
   "outputs": [
    {
     "name": "stdout",
     "output_type": "stream",
     "text": [
      "<torch.utils.data.dataset.TensorDataset object at 0x0000020351233550>\n",
      "tensor([4, 4, 4, 2, 3, 3, 1, 1, 1, 4, 3, 3, 0, 0, 3, 3, 2, 3, 3, 4, 1, 4, 4, 3,\n",
      "        1, 0, 4, 4, 1, 4, 1, 3, 0, 1, 1, 0, 1, 1, 4, 1, 3, 4, 1, 3, 2, 3, 3, 3,\n",
      "        0, 4, 0, 1, 1, 0, 3, 0, 0, 1, 0, 0, 2, 0, 4, 2, 0, 0, 1, 0, 3, 4, 4, 0,\n",
      "        1, 1, 0, 3, 3, 2, 3, 4, 4, 2, 2, 3, 0, 4, 4, 2, 0, 3, 4, 0, 2, 4, 1, 1,\n",
      "        0, 3, 0, 0, 0, 4, 4, 3, 1, 3, 0, 1, 0, 1, 3, 0, 1, 4, 2, 3, 1, 3, 0, 3,\n",
      "        3, 4, 4, 1, 2, 1, 3, 4, 2, 0, 0, 2, 1, 1, 1, 1, 3, 2, 3, 3, 0, 3, 1, 4,\n",
      "        4, 0, 1, 0, 4, 2, 0, 4, 4, 0, 0, 1, 4, 3, 0, 4, 3, 2, 1, 3, 0, 1, 4, 1,\n",
      "        3, 2, 4, 2, 4])\n"
     ]
    }
   ],
   "source": [
    "print(dataset)\n",
    "print(y_fusion)"
   ]
  },
  {
   "cell_type": "code",
   "execution_count": 26,
   "id": "f8fba3c4",
   "metadata": {},
   "outputs": [],
   "source": [
    "class FusionMLP(nn.Module):\n",
    "    def __init__(self, input_dim=10, hidden_dim=32, num_classes=5):\n",
    "        super().__init__()\n",
    "        self.fc1 = nn.Linear(input_dim, hidden_dim)\n",
    "        self.dropout= nn.Dropout(0.2)\n",
    "        self.fc2=nn.Linear(hidden_dim, num_classes)\n",
    "        self.output_dim=num_classes\n",
    "\n",
    "    def forward(self, x):\n",
    "        x = F.relu(self.fc1(x))\n",
    "        x = self.dropout(x)\n",
    "        x = self.fc2(x)\n",
    "        return x"
   ]
  },
  {
   "cell_type": "code",
   "execution_count": 27,
   "id": "80315069",
   "metadata": {},
   "outputs": [],
   "source": [
    "model=FusionMLP()\n",
    "criterion=nn.CrossEntropyLoss()\n",
    "optimizer=optim.Adam(model.parameters(), lr=0.001)"
   ]
  },
  {
   "cell_type": "code",
   "execution_count": 28,
   "id": "7a10d244",
   "metadata": {},
   "outputs": [
    {
     "name": "stdout",
     "output_type": "stream",
     "text": [
      "Epoch 1, Loss: 1.6098, Accuracy: 0.1965\n",
      "Epoch 2, Loss: 1.5915, Accuracy: 0.2312\n",
      "Epoch 3, Loss: 1.5720, Accuracy: 0.2717\n",
      "Epoch 4, Loss: 1.5678, Accuracy: 0.2428\n",
      "Epoch 5, Loss: 1.5603, Accuracy: 0.2486\n",
      "Epoch 6, Loss: 1.5439, Accuracy: 0.3179\n",
      "Epoch 7, Loss: 1.5412, Accuracy: 0.3121\n",
      "Epoch 8, Loss: 1.5189, Accuracy: 0.3699\n",
      "Epoch 9, Loss: 1.5115, Accuracy: 0.3642\n",
      "Epoch 10, Loss: 1.5007, Accuracy: 0.4335\n",
      "Epoch 11, Loss: 1.4899, Accuracy: 0.4162\n",
      "Epoch 12, Loss: 1.4763, Accuracy: 0.4971\n",
      "Epoch 13, Loss: 1.4485, Accuracy: 0.5549\n",
      "Epoch 14, Loss: 1.4424, Accuracy: 0.5723\n",
      "Epoch 15, Loss: 1.4159, Accuracy: 0.6012\n",
      "Epoch 16, Loss: 1.4146, Accuracy: 0.6012\n",
      "Epoch 17, Loss: 1.3813, Accuracy: 0.6301\n",
      "Epoch 18, Loss: 1.3764, Accuracy: 0.6185\n",
      "Epoch 19, Loss: 1.3572, Accuracy: 0.6127\n",
      "Epoch 20, Loss: 1.3334, Accuracy: 0.6301\n"
     ]
    }
   ],
   "source": [
    "for epoch in range(20):\n",
    "    model.train()\n",
    "    total_loss, correct = 0, 0\n",
    "    for x_batch, y_batch in dataloader:\n",
    "        optimizer.zero_grad()\n",
    "        outputs = model(x_batch)\n",
    "        loss = criterion(outputs, y_batch)\n",
    "        loss.backward()\n",
    "        optimizer.step()\n",
    "        \n",
    "        total_loss += loss.item() * x_batch.size(0)\n",
    "        preds=outputs.argmax(dim=1)\n",
    "        correct += (preds == y_batch).sum().item()\n",
    "\n",
    "    print(f'Epoch {epoch+1}, Loss: {total_loss/len(dataset):.4f}, Accuracy: {correct/len(dataset):.4f}')"
   ]
  },
  {
   "cell_type": "code",
   "execution_count": 29,
   "id": "4bdb3d94",
   "metadata": {},
   "outputs": [],
   "source": [
    "torch.save(model.state_dict(), 'models/fusion_mlp_final.pt')"
   ]
  },
  {
   "cell_type": "code",
   "execution_count": 30,
   "id": "5111bee5",
   "metadata": {},
   "outputs": [],
   "source": [
    "fusion_inputs=torch.cat([audio_probs, text_probs], dim=1)\n",
    "labels=labels[:fusion_inputs.size(0)]\n",
    "\n",
    "fusion_dataset=TensorDataset(fusion_inputs, labels)\n",
    "fusion_loader=DataLoader(fusion_dataset, batch_size=32, shuffle=False)\n",
    "\n",
    "device=torch.device('cuda' if torch.cuda.is_available() else 'cpu')\n",
    "model=FusionMLP(input_dim=fusion_inputs.shape[1], hidden_dim=32).to(device)\n",
    "model.load_state_dict(torch.load('models/fusion_mlp_final.pt', map_location=device))\n",
    "model.eval()\n",
    "\n",
    "\n",
    "fusion_preds=[]\n",
    "with torch.no_grad():\n",
    "    for x,_ in fusion_loader:\n",
    "        x=x.to(device)\n",
    "        outputs=model(x)\n",
    "        preds=torch.argmax(outputs, dim=1)\n",
    "        fusion_preds.extend(preds.cpu().numpy())\n"
   ]
  },
  {
   "cell_type": "code",
   "execution_count": 31,
   "id": "925a445b",
   "metadata": {},
   "outputs": [
    {
     "name": "stdout",
     "output_type": "stream",
     "text": [
      "[4, 1, 4, 2, 3, 3, 1, 1, 1, 3, 3, 3, 0, 0, 3, 1, 1, 3, 3, 4, 1, 4, 1, 3, 1, 0, 4, 3, 1, 1, 0, 3, 3, 1, 3, 1, 1, 1, 4, 3, 3, 3, 1, 3, 1, 3, 3, 3, 0, 3, 0, 1, 1, 0, 3, 0, 0, 0, 0, 0, 3, 0, 4, 1, 1, 4, 1, 0, 3, 4, 1, 4, 4, 3, 1, 3, 3, 1, 3, 3, 1, 1, 4, 3, 0, 3, 4, 4, 0, 3, 0, 0, 3, 0, 1, 1, 0, 3, 4, 0, 0, 0, 1, 3, 1, 3, 0, 1, 0, 1, 3, 0, 1, 4, 3, 3, 1, 3, 0, 1, 3, 4, 4, 3, 4, 3, 3, 4, 3, 0, 0, 1, 1, 1, 4, 1, 3, 1, 3, 1, 0, 3, 4, 0, 3, 0, 1, 0, 1, 1, 0, 1, 1, 0, 0, 1, 3, 3, 0, 4, 3, 2, 1, 3, 1, 1, 1, 1, 3, 4, 4, 4, 4]\n"
     ]
    }
   ],
   "source": [
    "print(fusion_preds)"
   ]
  },
  {
   "cell_type": "code",
   "execution_count": 32,
   "id": "c8f6acbe",
   "metadata": {},
   "outputs": [
    {
     "name": "stdout",
     "output_type": "stream",
     "text": [
      "tensor([4, 4, 4, 2, 3, 3, 1, 1, 1, 4, 3, 3, 0, 0, 3, 3, 2, 3, 3, 4, 1, 4, 4, 3,\n",
      "        1, 0, 4, 4, 1, 4, 1, 3, 0, 1, 1, 0, 1, 1, 4, 1, 3, 4, 1, 3, 2, 3, 3, 3,\n",
      "        0, 4, 0, 1, 1, 0, 3, 0, 0, 1, 0, 0, 2, 0, 4, 2, 0, 0, 1, 0, 3, 4, 4, 0,\n",
      "        1, 1, 0, 3, 3, 2, 3, 4, 4, 2, 2, 3, 0, 4, 4, 2, 0, 3, 4, 0, 2, 4, 1, 1,\n",
      "        0, 3, 0, 0, 0, 4, 4, 3, 1, 3, 0, 1, 0, 1, 3, 0, 1, 4, 2, 3, 1, 3, 0, 3,\n",
      "        3, 4, 4, 1, 2, 1, 3, 4, 2, 0, 0, 2, 1, 1, 1, 1, 3, 2, 3, 3, 0, 3, 1, 4,\n",
      "        4, 0, 1, 0, 4, 2, 0, 4, 4, 0, 0, 1, 4, 3, 0, 4, 3, 2, 1, 3, 0, 1, 4, 1,\n",
      "        3, 2, 4, 2, 4])\n"
     ]
    }
   ],
   "source": [
    "print(labels)"
   ]
  },
  {
   "cell_type": "code",
   "execution_count": 33,
   "id": "fd8bbe25",
   "metadata": {},
   "outputs": [],
   "source": [
    "cm=confusion_matrix(labels, fusion_preds)\n",
    "disp=ConfusionMatrixDisplay(confusion_matrix=cm, display_labels=[\"Angry\", \"Sad\", \"Neutral\", \"Surprised\", \"Happy\"])"
   ]
  },
  {
   "cell_type": "code",
   "execution_count": 34,
   "id": "55e83d4f",
   "metadata": {},
   "outputs": [
    {
     "data": {
      "text/plain": [
       "<Figure size 800x600 with 0 Axes>"
      ]
     },
     "metadata": {},
     "output_type": "display_data"
    },
    {
     "data": {
      "image/png": "[encoded data removed]",
      "text/plain": [
       "<Figure size 640x480 with 2 Axes>"
      ]
     },
     "metadata": {},
     "output_type": "display_data"
    }
   ],
   "source": [
    "plt.figure(figsize=(8,6))\n",
    "disp.plot(cmap=\"Blues\", xticks_rotation=45)\n",
    "plt.title(\"Fusion model confusion matrix\")\n",
    "plt.show()"
   ]
  },
  {
   "cell_type": "code",
   "execution_count": 35,
   "id": "1541f01d",
   "metadata": {},
   "outputs": [
    {
     "name": "stdout",
     "output_type": "stream",
     "text": [
      "Counter({3: 54, 1: 53, 0: 37, 4: 27, 2: 2})\n",
      "tensor([39, 38, 19, 39, 38])\n",
      "Label: 3 Pred: 3\n",
      "Audio probs: tensor([4.8069e-03, 1.1748e-04, 7.8629e-04, 9.7921e-01, 1.5080e-02])\n",
      "Text probs: tensor([3.4193e-06, 5.1706e-06, 2.2104e-07, 9.9999e-01, 4.8055e-06])\n"
     ]
    }
   ],
   "source": [
    "from collections import Counter\n",
    "print(Counter(fusion_preds))\n",
    "\n",
    "print(torch.bincount(labels))\n",
    "\n",
    "idx = 10\n",
    "print(\"Label:\", labels[idx].item(), \"Pred:\", fusion_preds[idx])\n",
    "print(\"Audio probs:\", audio_probs[idx])\n",
    "print(\"Text probs:\", text_probs[idx])"
   ]
  },
  {
   "cell_type": "code",
   "execution_count": 36,
   "id": "ae9572c0",
   "metadata": {},
   "outputs": [
    {
     "name": "stdout",
     "output_type": "stream",
     "text": [
      "Audio probs sum: tensor([1.0000, 1.0000, 1.0000, 1.0000, 1.0000])\n",
      "Text probs sum: tensor([1.0000, 1.0000, 1.0000, 1.0000, 1.0000])\n",
      "Fusion inputs sample: tensor([4.8069e-03, 1.1748e-04, 7.8629e-04, 9.7921e-01, 1.5080e-02, 3.4193e-06,\n",
      "        5.1706e-06, 2.2104e-07, 9.9999e-01, 4.8055e-06])\n"
     ]
    }
   ],
   "source": [
    "print(f\"Audio probs sum: {audio_probs.sum(dim=1)[:5]}\")  # Should be 1.0 if softmax\n",
    "print(f\"Text probs sum: {text_probs.sum(dim=1)[:5]}\")    # Same\n",
    "\n",
    "print(f\"Fusion inputs sample: {fusion_inputs[10]}\")  # Check concatenation looks ok\n"
   ]
  },
  {
   "cell_type": "code",
   "execution_count": 37,
   "id": "a61c730d",
   "metadata": {},
   "outputs": [
    {
     "name": "stdout",
     "output_type": "stream",
     "text": [
      "Exact matches: 113 / 173\n"
     ]
    }
   ],
   "source": [
    "correct_matches = sum((labels.numpy() == np.array(fusion_preds)))\n",
    "print(f\"Exact matches: {correct_matches} / {len(labels)}\")\n"
   ]
  }
 ],
 "metadata": {
  "kernelspec": {
   "display_name": "emotion-detection",
   "language": "python",
   "name": "python3"
  },
  "language_info": {
   "codemirror_mode": {
    "name": "ipython",
    "version": 3
   },
   "file_extension": ".py",
   "mimetype": "text/x-python",
   "name": "python",
   "nbconvert_exporter": "python",
   "pygments_lexer": "ipython3",
   "version": "3.10.16"
  }
 },
 "nbformat": 4,
 "nbformat_minor": 5
}
