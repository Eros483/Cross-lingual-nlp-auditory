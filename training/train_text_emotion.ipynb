{
 "cells": [
  {
   "cell_type": "code",
   "execution_count": 1,
   "id": "a6f2690c",
   "metadata": {},
   "outputs": [
    {
     "name": "stderr",
     "output_type": "stream",
     "text": [
      "c:\\Users\\arnab\\miniconda3\\envs\\emotion-detection\\lib\\site-packages\\tqdm\\auto.py:21: TqdmWarning: IProgress not found. Please update jupyter and ipywidgets. See https://ipywidgets.readthedocs.io/en/stable/user_install.html\n",
      "  from .autonotebook import tqdm as notebook_tqdm\n"
     ]
    }
   ],
   "source": [
    "import torch\n",
    "import torch.nn as nn\n",
    "from torch.nn.utils import clip_grad_norm_\n",
    "from torch.utils.data import DataLoader, TensorDataset, WeightedRandomSampler\n",
    "from transformers import AutoModelForSequenceClassification, AdamW, AutoConfig\n",
    "import torch.nn.functional as F\n",
    "from sklearn.model_selection import train_test_split\n",
    "import numpy as np\n",
    "import pandas as pd\n",
    "from sklearn.utils import class_weight\n",
    "from transformers import get_scheduler\n",
    "from transformers import XLMRobertaModel\n",
    "from sklearn.metrics import f1_score, accuracy_score, precision_recall_fscore_support, classification_report\n",
    "import os"
   ]
  },
  {
   "cell_type": "code",
   "execution_count": 2,
   "id": "1c0a2d65",
   "metadata": {},
   "outputs": [],
   "source": [
    "text_data=torch.load(\"../datasets/processed_text/augmented_text_data.pt\")\n",
    "\n",
    "input_ids = text_data['input_ids']\n",
    "attention_mask = text_data['attention_mask']\n",
    "labels = text_data['labels']"
   ]
  },
  {
   "cell_type": "code",
   "execution_count": 3,
   "id": "775ffaa6",
   "metadata": {},
   "outputs": [
    {
     "name": "stdout",
     "output_type": "stream",
     "text": [
      "{'Angry', 'Suprised', 'Happy', 'Neutral', 'Sad'}\n"
     ]
    }
   ],
   "source": [
    "print(set(labels))  # Should ONLY be {'Angry', 'Sad', 'Neutral', 'Suprised', 'Happy'}\n",
    "\n",
    "device=torch.device(\"cuda\" if torch.cuda.is_available() else \"cpu\")"
   ]
  },
  {
   "cell_type": "code",
   "execution_count": 4,
   "id": "084caf8c",
   "metadata": {},
   "outputs": [
    {
     "name": "stdout",
     "output_type": "stream",
     "text": [
      "Labels with None:  <module 'numpy' from 'c:\\\\Users\\\\arnab\\\\miniconda3\\\\envs\\\\emotion-detection\\\\lib\\\\site-packages\\\\numpy\\\\__init__.py'> 0\n",
      "Labels with NaN:  0\n",
      "['Neutral' 'Suprised' 'Happy' ... 'Sad' 'Suprised' 'Neutral']\n"
     ]
    }
   ],
   "source": [
    "labels = np.array(labels)\n",
    "\n",
    "print(\"Labels with None: \", np,sum([x is None for x in labels]))\n",
    "print(\"Labels with NaN: \", np.sum(pd.isnull(labels)))\n",
    "\n",
    "valid_idx=[i for i, x in enumerate(labels) if x is not None and not pd.isnull(x)]\n",
    "input_ids = input_ids[valid_idx]\n",
    "attention_mask = attention_mask[valid_idx]\n",
    "labels = labels[valid_idx]\n",
    "\n",
    "print(labels)"
   ]
  },
  {
   "cell_type": "code",
   "execution_count": 5,
   "id": "0ecbcadc",
   "metadata": {},
   "outputs": [
    {
     "name": "stdout",
     "output_type": "stream",
     "text": [
      "{0, 1, 2, 3, 4}\n",
      "4\n",
      "0\n",
      "tensor([2, 3, 4,  ..., 1, 3, 2])\n"
     ]
    }
   ],
   "source": [
    "  \n",
    "emotion2id = {\n",
    "    \"Angry\": 0,\n",
    "    \"Sad\": 1,\n",
    "    \"Neutral\": 2,\n",
    "    \"Suprised\": 3,\n",
    "    \"Happy\": 4\n",
    "}\n",
    "    \n",
    "numeric_labels = [emotion2id[label] for label in labels]\n",
    "\n",
    "print(set(numeric_labels))  # Should be exactly {0, 1, 2, 3, 4}\n",
    "print(max(numeric_labels))  # Should be 4\n",
    "print(min(numeric_labels))  # Should be 0\n",
    "\n",
    "labels=torch.tensor(numeric_labels, dtype=torch.long)\n",
    "\n",
    "print(labels)"
   ]
  },
  {
   "cell_type": "code",
   "execution_count": 6,
   "id": "6b93e30e",
   "metadata": {},
   "outputs": [],
   "source": [
    "train_idx, val_idx=train_test_split(list(range(len(labels))),test_size=0.1, random_state=42, stratify=labels)\n",
    "\n",
    "train_dataset= TensorDataset(\n",
    "    input_ids[train_idx],\n",
    "    attention_mask[train_idx],\n",
    "    labels[train_idx]\n",
    ")\n",
    "\n",
    "val_dataset= TensorDataset(\n",
    "    input_ids[val_idx],\n",
    "    attention_mask[val_idx],\n",
    "    labels[val_idx]\n",
    ")\n",
    "\n",
    "val_loader = DataLoader(val_dataset, batch_size=16, shuffle=False, num_workers=4, pin_memory=True)\n",
    "\n"
   ]
  },
  {
   "cell_type": "code",
   "execution_count": 7,
   "id": "b644c6e0",
   "metadata": {},
   "outputs": [],
   "source": [
    "label_counts=torch.tensor([1461, 637, 937, 1067, 1015], dtype=torch.float)\n",
    "class_weights=1.0/label_counts\n",
    "class_weights=class_weights / class_weights.sum()\n",
    "class_weights=class_weights.to(device)\n",
    "\n",
    "sample_weights= class_weights[labels[train_idx]]\n",
    "\n",
    "sampler=WeightedRandomSampler(\n",
    "    weights=sample_weights, num_samples=len(sample_weights), replacement=True\n",
    ")\n",
    "\n",
    "train_loader = DataLoader(train_dataset, batch_size=16, shuffle=False, sampler=sampler, num_workers=4, pin_memory=True)"
   ]
  },
  {
   "cell_type": "code",
   "execution_count": 8,
   "id": "e18a37e9",
   "metadata": {},
   "outputs": [],
   "source": [
    "class EmotionClassifier(torch.nn.Module):\n",
    "    def __init__(self, dropout=0.3, num_classes=5):\n",
    "        super(EmotionClassifier, self).__init__()\n",
    "        self.base_model = XLMRobertaModel.from_pretrained(\"xlm-roberta-base\")\n",
    "        self.dropout=nn.Dropout(dropout)\n",
    "        self.norm=nn.LayerNorm(self.base_model.config.hidden_size)\n",
    "        self.out=nn.Linear(self.base_model.config.hidden_size, num_classes)\n",
    "\n",
    "    def forward(self, input_ids, attention_mask):\n",
    "        outputs = self.base_model(input_ids=input_ids, attention_mask=attention_mask)\n",
    "        pooled_output=torch.mean(outputs.last_hidden_state, dim=1)\n",
    "        x=self.dropout(self.norm(pooled_output))\n",
    "        return self.out(x)"
   ]
  },
  {
   "cell_type": "code",
   "execution_count": 9,
   "id": "7ed50a80",
   "metadata": {},
   "outputs": [
    {
     "name": "stderr",
     "output_type": "stream",
     "text": [
      "c:\\Users\\arnab\\miniconda3\\envs\\emotion-detection\\lib\\site-packages\\huggingface_hub\\file_download.py:943: FutureWarning: `resume_download` is deprecated and will be removed in version 1.0.0. Downloads always resume when possible. If you want to force a new download, use `force_download=True`.\n",
      "  warnings.warn(\n",
      "c:\\Users\\arnab\\miniconda3\\envs\\emotion-detection\\lib\\site-packages\\transformers\\optimization.py:521: FutureWarning: This implementation of AdamW is deprecated and will be removed in a future version. Use the PyTorch implementation torch.optim.AdamW instead, or set `no_deprecation_warning=True` to disable this warning\n",
      "  warnings.warn(\n"
     ]
    }
   ],
   "source": [
    "num_labels=len(emotion2id)\n",
    "\n",
    "model = EmotionClassifier(num_classes=len(emotion2id)).to(device)\n",
    "optimizer = AdamW(model.parameters(), lr=2e-5)\n"
   ]
  },
  {
   "cell_type": "code",
   "execution_count": 10,
   "id": "ef6d9c2d",
   "metadata": {},
   "outputs": [],
   "source": [
    "labels = torch.tensor(numeric_labels, dtype=torch.long)\n"
   ]
  },
  {
   "cell_type": "code",
   "execution_count": 11,
   "id": "2b887cde",
   "metadata": {},
   "outputs": [],
   "source": [
    "def label_smoothening_loss(outputs, target, smoothing=0.1):\n",
    "    n_classes=outputs.size(1)\n",
    "    one_hot = torch.zeros_like(outputs).scatter(1, target.unsqueeze(1), 1)\n",
    "    one_hot = one_hot * (1 - smoothing) + (smoothing / n_classes)\n",
    "    log_probs = F.log_softmax(outputs, dim=-1)\n",
    "    loss = -(one_hot * log_probs).sum(dim=1).mean()\n",
    "    return loss"
   ]
  },
  {
   "cell_type": "code",
   "execution_count": 12,
   "id": "7e90cff4",
   "metadata": {},
   "outputs": [],
   "source": [
    "epochs = 20"
   ]
  },
  {
   "cell_type": "code",
   "execution_count": 13,
   "id": "5f8abf2a",
   "metadata": {},
   "outputs": [],
   "source": [
    "get_scheduler=get_scheduler(\n",
    "    \"linear\", optimizer=optimizer, num_warmup_steps=0, num_training_steps=len(train_loader) * epochs\n",
    ")"
   ]
  },
  {
   "cell_type": "code",
   "execution_count": 14,
   "id": "255c7876",
   "metadata": {},
   "outputs": [
    {
     "name": "stdout",
     "output_type": "stream",
     "text": [
      "Epoch 1/20, Loss: 396.3554, Validation Accuracy: 0.5752\n",
      "Epoch 1/20, Validation F1-score: 0.5845, Precision: 0.6131, Recall: 0.5752\n",
      "Epoch 2/20, Loss: 243.1651, Validation Accuracy: 0.6016\n",
      "Epoch 2/20, Validation F1-score: 0.6037, Precision: 0.6370, Recall: 0.6016\n",
      "Epoch 3/20, Loss: 169.6450, Validation Accuracy: 0.6057\n",
      "Epoch 3/20, Validation F1-score: 0.6065, Precision: 0.6247, Recall: 0.6057\n",
      "Epoch 4/20, Loss: 118.2166, Validation Accuracy: 0.5996\n",
      "Epoch 4/20, Validation F1-score: 0.6073, Precision: 0.6234, Recall: 0.5996\n",
      "Epoch 5/20, Loss: 85.8732, Validation Accuracy: 0.6016\n",
      "Epoch 5/20, Validation F1-score: 0.6080, Precision: 0.6291, Recall: 0.6016\n",
      "Epoch 6/20, Loss: 60.2123, Validation Accuracy: 0.6382\n",
      "Epoch 6/20, Validation F1-score: 0.6373, Precision: 0.6424, Recall: 0.6382\n",
      "Epoch 7/20, Loss: 45.1441, Validation Accuracy: 0.6098\n",
      "Epoch 7/20, Validation F1-score: 0.6123, Precision: 0.6181, Recall: 0.6098\n",
      "Epoch 8/20, Loss: 35.7174, Validation Accuracy: 0.6321\n",
      "Epoch 8/20, Validation F1-score: 0.6323, Precision: 0.6411, Recall: 0.6321\n",
      "Epoch 9/20, Loss: 22.1685, Validation Accuracy: 0.6077\n",
      "Epoch 9/20, Validation F1-score: 0.6074, Precision: 0.6375, Recall: 0.6077\n",
      "Epoch 10/20, Loss: 15.3397, Validation Accuracy: 0.6098\n",
      "Epoch 10/20, Validation F1-score: 0.6167, Precision: 0.6370, Recall: 0.6098\n",
      "Epoch 11/20, Loss: 9.6800, Validation Accuracy: 0.6098\n",
      "Epoch 11/20, Validation F1-score: 0.6179, Precision: 0.6360, Recall: 0.6098\n",
      "Epoch 12/20, Loss: 10.9326, Validation Accuracy: 0.6402\n",
      "Epoch 12/20, Validation F1-score: 0.6389, Precision: 0.6420, Recall: 0.6402\n",
      "Epoch 13/20, Loss: 3.7383, Validation Accuracy: 0.6362\n",
      "Epoch 13/20, Validation F1-score: 0.6364, Precision: 0.6407, Recall: 0.6362\n",
      "Epoch 14/20, Loss: 5.0450, Validation Accuracy: 0.6423\n",
      "Epoch 14/20, Validation F1-score: 0.6402, Precision: 0.6412, Recall: 0.6423\n",
      "Epoch 15/20, Loss: 5.1772, Validation Accuracy: 0.6463\n",
      "Epoch 15/20, Validation F1-score: 0.6496, Precision: 0.6555, Recall: 0.6463\n",
      "Epoch 16/20, Loss: 3.0783, Validation Accuracy: 0.6240\n",
      "Epoch 16/20, Validation F1-score: 0.6287, Precision: 0.6377, Recall: 0.6240\n",
      "Epoch 17/20, Loss: 0.8782, Validation Accuracy: 0.6159\n",
      "Epoch 17/20, Validation F1-score: 0.6227, Precision: 0.6382, Recall: 0.6159\n",
      "Epoch 18/20, Loss: 1.5862, Validation Accuracy: 0.6321\n",
      "Epoch 18/20, Validation F1-score: 0.6360, Precision: 0.6422, Recall: 0.6321\n",
      "Epoch 19/20, Loss: 0.4832, Validation Accuracy: 0.6423\n",
      "Epoch 19/20, Validation F1-score: 0.6437, Precision: 0.6501, Recall: 0.6423\n",
      "Epoch 20/20, Loss: 0.1592, Validation Accuracy: 0.6321\n",
      "Epoch 20/20, Validation F1-score: 0.6338, Precision: 0.6385, Recall: 0.6321\n"
     ]
    }
   ],
   "source": [
    "for epoch in range(epochs):\n",
    "    model.train()\n",
    "    running_loss = 0.0\n",
    "    \n",
    "    for batch in train_loader:\n",
    "        input_ids_batch, attention_mask_batch, labels_batch = [x.to(device) for x in batch]\n",
    "        \n",
    "        optimizer.zero_grad()\n",
    "        outputs = model(input_ids=input_ids_batch, attention_mask=attention_mask_batch)\n",
    "        logits= outputs\n",
    "\n",
    "        #1)  label smoothening loss\n",
    "        #loss = label_smoothening_loss(logits, labels_batch, smoothing=0.1)\n",
    "        #2)  cross entropy loss\n",
    "        criterion = torch.nn.CrossEntropyLoss()\n",
    "        loss = criterion(logits, labels_batch)\n",
    "        loss.backward()\n",
    "        clip_grad_norm_(model.parameters(), max_norm=1.0)\n",
    "        optimizer.step()\n",
    "        get_scheduler.step()\n",
    "        running_loss += loss.item()*input_ids.size(0)\n",
    "    \n",
    "    epoch_loss = running_loss / len(train_loader.dataset)\n",
    "    model.eval()\n",
    "    all_preds, all_labels = [], []\n",
    "\n",
    "    with torch.no_grad():\n",
    "        for batch in val_loader:\n",
    "            input_ids_batch, attention_mask_batch, labels_batch = [x.to(device) for x in batch]\n",
    "            outputs=model(input_ids=input_ids_batch, attention_mask=attention_mask_batch)\n",
    "            preds=torch.argmax(outputs, dim=-1)\n",
    "\n",
    "            all_preds.extend(preds.cpu().numpy())\n",
    "            all_labels.extend(labels_batch.cpu().numpy())\n",
    "\n",
    "    precision, recall, f1, _ = precision_recall_fscore_support(all_labels, all_preds, average='weighted')\n",
    "    acc=np.mean(np.array(all_preds) == np.array(all_labels))\n",
    "    \n",
    "    print(f\"Epoch {epoch+1}/{epochs}, Loss: {epoch_loss:.4f}, Validation Accuracy: {acc:.4f}\")\n",
    "    print(f\"Epoch {epoch+1}/{epochs}, Validation F1-score: {f1:.4f}, Precision: {precision:.4f}, Recall: {recall:.4f}\")"
   ]
  },
  {
   "cell_type": "code",
   "execution_count": 15,
   "id": "bb5e93da",
   "metadata": {},
   "outputs": [
    {
     "name": "stdout",
     "output_type": "stream",
     "text": [
      "Labels in preds: {0, 1, 2, 3, 4}\n",
      "Labels in true: {0, 1, 2, 3, 4}\n",
      "Class names: {'Angry': 0, 'Sad': 1, 'Neutral': 2, 'Suprised': 3, 'Happy': 4}\n",
      "Confusion matrix shape: (5, 5)\n"
     ]
    },
    {
     "data": {
      "text/plain": [
       "<Figure size 800x600 with 0 Axes>"
      ]
     },
     "metadata": {},
     "output_type": "display_data"
    },
    {
     "data": {
      "image/png": "[encoded data removed]",
      "text/plain": [
       "<Figure size 640x480 with 2 Axes>"
      ]
     },
     "metadata": {},
     "output_type": "display_data"
    }
   ],
   "source": [
    "from sklearn.metrics import confusion_matrix, ConfusionMatrixDisplay\n",
    "import matplotlib.pyplot as plt\n",
    "\n",
    "# Put model in eval mode\n",
    "model.eval()\n",
    "\n",
    "all_preds = []\n",
    "all_labels = []\n",
    "\n",
    "with torch.no_grad():\n",
    "    for batch in val_loader:\n",
    "        input_ids_batch = batch[0].to(device)\n",
    "        attention_mask_batch = batch[1].to(device)\n",
    "        labels_batch = batch[2].to(device)\n",
    "\n",
    "        outputs = model(input_ids=input_ids_batch, attention_mask=attention_mask_batch)\n",
    "        logits = outputs\n",
    "        preds = torch.argmax(logits, dim=1)\n",
    "\n",
    "        all_preds.extend(preds.cpu().numpy())\n",
    "        all_labels.extend(labels_batch.cpu().numpy())\n",
    "\n",
    "# Compute confusion matrix\n",
    "cm = confusion_matrix(all_labels, all_preds)\n",
    "disp = ConfusionMatrixDisplay(confusion_matrix=cm, display_labels=list(emotion2id.keys()))\n",
    "\n",
    "\n",
    "print(\"Labels in preds:\", set(all_preds))\n",
    "print(\"Labels in true:\", set(all_labels))\n",
    "print(\"Class names:\", emotion2id)\n",
    "print(\"Confusion matrix shape:\", cm.shape)\n",
    "\n",
    "# Plot it\n",
    "plt.figure(figsize=(8, 6))\n",
    "disp.plot(cmap=\"Blues\", xticks_rotation=45)\n",
    "plt.title(\"Confusion Matrix\")\n",
    "plt.show()\n",
    "\n",
    "\n"
   ]
  },
  {
   "cell_type": "code",
   "execution_count": 16,
   "id": "bf1ee220",
   "metadata": {},
   "outputs": [
    {
     "name": "stdout",
     "output_type": "stream",
     "text": [
      "Counter({0: 1461, 3: 1067, 4: 1015, 2: 937, 1: 437})\n"
     ]
    }
   ],
   "source": [
    "from collections import Counter\n",
    "print(Counter(labels.numpy()))\n"
   ]
  },
  {
   "cell_type": "code",
   "execution_count": 17,
   "id": "cd7aa8c5",
   "metadata": {},
   "outputs": [
    {
     "name": "stdout",
     "output_type": "stream",
     "text": [
      "Counter({0: 131, 3: 113, 2: 108, 4: 102, 1: 38})\n"
     ]
    }
   ],
   "source": [
    "from collections import Counter\n",
    "print(Counter(all_preds))\n"
   ]
  },
  {
   "cell_type": "code",
   "execution_count": 18,
   "id": "7884f423",
   "metadata": {},
   "outputs": [
    {
     "name": "stdout",
     "output_type": "stream",
     "text": [
      "Counter({0: 146, 3: 107, 4: 101, 2: 94, 1: 44})\n"
     ]
    }
   ],
   "source": [
    "from collections import Counter\n",
    "val_labels = labels[val_idx]\n",
    "print(Counter(val_labels.tolist()))\n"
   ]
  },
  {
   "cell_type": "code",
   "execution_count": 19,
   "id": "3a2a310a",
   "metadata": {},
   "outputs": [
    {
     "name": "stdout",
     "output_type": "stream",
     "text": [
      "              precision    recall  f1-score   support\n",
      "\n",
      "       Angry       0.81      0.73      0.77       146\n",
      "         Sad       0.39      0.34      0.37        44\n",
      "     Neutral       0.52      0.60      0.55        94\n",
      "    Suprised       0.58      0.61      0.59       107\n",
      "       Happy       0.68      0.68      0.68       101\n",
      "\n",
      "    accuracy                           0.63       492\n",
      "   macro avg       0.59      0.59      0.59       492\n",
      "weighted avg       0.64      0.63      0.63       492\n",
      "\n"
     ]
    }
   ],
   "source": [
    "from sklearn.metrics import classification_report\n",
    "\n",
    "print(classification_report(all_labels, all_preds, target_names=list(emotion2id.keys())))\n"
   ]
  },
  {
   "cell_type": "code",
   "execution_count": 20,
   "id": "e46dd4e9",
   "metadata": {},
   "outputs": [],
   "source": [
    "torch.save(model.state_dict(), \"models/xlm_roberta_emotion_augmented.pt\")\n"
   ]
  },
  {
   "cell_type": "code",
   "execution_count": 15,
   "id": "81bc8652",
   "metadata": {},
   "outputs": [
    {
     "name": "stderr",
     "output_type": "stream",
     "text": [
      "c:\\Users\\arnab\\miniconda3\\envs\\emotion-detection\\lib\\site-packages\\huggingface_hub\\file_download.py:943: FutureWarning: `resume_download` is deprecated and will be removed in version 1.0.0. Downloads always resume when possible. If you want to force a new download, use `force_download=True`.\n",
      "  warnings.warn(\n"
     ]
    }
   ],
   "source": [
    "model= EmotionClassifier(num_classes=len(emotion2id)).to(device)\n",
    "model.load_state_dict(torch.load(\"models/xlm_roberta_emotion_augmented.pt\", map_location=device))\n",
    "model.eval()\n",
    "\n",
    "all_probs=[]\n",
    "\n",
    "with torch.no_grad():\n",
    "    for batch in val_loader:\n",
    "        input_ids_batch, attention_mask_batch, labels_batch = [x.to(device) for x in batch]\n",
    "        outputs = model(input_ids=input_ids_batch, attention_mask=attention_mask_batch)\n",
    "        probs = F.softmax(outputs, dim=-1)\n",
    "        all_probs.append(probs.cpu())\n",
    "\n",
    "text_val_probs =torch.cat(all_probs, dim=0)\n",
    "text_preds=text_val_probs.argmax(dim=-1)\n"
   ]
  },
  {
   "cell_type": "code",
   "execution_count": 16,
   "id": "ba2c7203",
   "metadata": {},
   "outputs": [
    {
     "name": "stdout",
     "output_type": "stream",
     "text": [
      "Saved: text_val_probs.pt\n",
      "Saved: text_val_preds.pt\n"
     ]
    }
   ],
   "source": [
    "os.makedirs(\"../datasets/fusion\", exist_ok=True)\n",
    "torch.save(text_val_probs, \"../datasets/fusion/text_val_probs.pt\")\n",
    "print(\"Saved: text_val_probs.pt\")\n",
    "torch.save(text_preds, \"../datasets/fusion/text_val_preds.pt\")\n",
    "print(\"Saved: text_val_preds.pt\")"
   ]
  }
 ],
 "metadata": {
  "kernelspec": {
   "display_name": "emotion-detection",
   "language": "python",
   "name": "python3"
  },
  "language_info": {
   "codemirror_mode": {
    "name": "ipython",
    "version": 3
   },
   "file_extension": ".py",
   "mimetype": "text/x-python",
   "name": "python",
   "nbconvert_exporter": "python",
   "pygments_lexer": "ipython3",
   "version": "3.10.16"
  }
 },
 "nbformat": 4,
 "nbformat_minor": 5
}
